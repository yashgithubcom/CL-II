{
 "cells": [
  {
   "cell_type": "code",
   "execution_count": 8,
   "id": "826bb25f",
   "metadata": {},
   "outputs": [],
   "source": [
    "import requests \n",
    "from bs4 import BeautifulSoup \n",
    "import pandas as pd"
   ]
  },
  {
   "cell_type": "code",
   "execution_count": 14,
   "id": "db55037d",
   "metadata": {},
   "outputs": [
    {
     "name": "stdout",
     "output_type": "stream",
     "text": [
      "Product Name: Product Name 1, Price: $100, Link: http://localhost:8000/product1.html\n",
      "Product Name: Product Name 2, Price: $150, Link: http://localhost:8000/product2.html\n",
      "Product Name: Product Name 3, Price: $200, Link: http://localhost:8000/product3.html\n",
      "Data saved to product_info.csv\n"
     ]
    }
   ],
   "source": [
    "# Function to extract product details\n",
    "def extract_product_info(url):\n",
    "    headers = {\"User-Agent\": \"Mozilla/5.0\"}\n",
    "    response = requests.get(url, headers=headers)\n",
    "    \n",
    "    # Check if request was successful\n",
    "    if response.status_code != 200:\n",
    "        print(\"Failed to retrieve the page\")\n",
    "        return []\n",
    "    \n",
    "    # Parsing the page content\n",
    "    soup = BeautifulSoup(response.text, \"html.parser\")\n",
    "    \n",
    "    # Example selectors (adjust as per actual HTML structure)\n",
    "    products = soup.find_all('div', class_='product-card')\n",
    "    if not products:\n",
    "        print(\"No products found on the page. Check your HTML selectors.\")\n",
    "        return []\n",
    "    \n",
    "    # Extracting product information\n",
    "    product_info_list = []\n",
    "    for product in products:\n",
    "        name = product.find('div', class_='product-title').text if product.find('div', class_='product-title') else \"N/A\"\n",
    "        price = product.find('div', class_='product-price').text if product.find('div', class_='product-price') else \"N/A\"\n",
    "        product_link = product.find('a', class_='product-link')['href'] if product.find('a', class_='product-link') else \"N/A\"\n",
    "        \n",
    "        # Append each product's data to the list\n",
    "        product_info_list.append({\n",
    "            'Product Name': name,\n",
    "            'Price': price,\n",
    "            'Link': product_link\n",
    "        })\n",
    "    \n",
    "    return product_info_list\n",
    "\n",
    "# URL of the e-commerce website's product page (modify accordingly)\n",
    "ecommerce_url = \"http://localhost:8000/product.html\"\n",
    "product_data = extract_product_info(ecommerce_url)\n",
    "\n",
    "# Check if product data is correctly extracted\n",
    "for product in product_data:\n",
    "    print(f\"Product Name: {product['Product Name']}, Price: {product['Price']}, Link: {product['Link']}\")\n",
    "\n",
    "# Optionally save to CSV\n",
    "if product_data:\n",
    "    df = pd.DataFrame(product_data)\n",
    "    df.to_csv('product_info.csv', index=False)\n",
    "    print(\"Data saved to product_info.csv\")\n",
    "else:\n",
    "    print(\"No product data found.\")\n"
   ]
  },
  {
   "cell_type": "code",
   "execution_count": null,
   "id": "2255a7c0",
   "metadata": {},
   "outputs": [],
   "source": []
  }
 ],
 "metadata": {
  "kernelspec": {
   "display_name": "Python 3 (ipykernel)",
   "language": "python",
   "name": "python3"
  },
  "language_info": {
   "codemirror_mode": {
    "name": "ipython",
    "version": 3
   },
   "file_extension": ".py",
   "mimetype": "text/x-python",
   "name": "python",
   "nbconvert_exporter": "python",
   "pygments_lexer": "ipython3",
   "version": "3.11.5"
  }
 },
 "nbformat": 4,
 "nbformat_minor": 5
}
