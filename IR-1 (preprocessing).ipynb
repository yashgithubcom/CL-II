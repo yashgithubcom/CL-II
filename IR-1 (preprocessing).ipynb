{
 "cells": [
  {
   "cell_type": "code",
   "execution_count": 1,
   "id": "c856a8a9",
   "metadata": {},
   "outputs": [],
   "source": [
    "import nltk\n",
    "from nltk.corpus import stopwords\n",
    "from nltk.stem import PorterStemmer\n",
    "from nltk.tokenize import word_tokenize"
   ]
  },
  {
   "cell_type": "code",
   "execution_count": 2,
   "id": "5f6f10d2",
   "metadata": {},
   "outputs": [
    {
     "name": "stderr",
     "output_type": "stream",
     "text": [
      "[nltk_data] Downloading package wordnet to\n",
      "[nltk_data]     C:\\Users\\kdzop\\AppData\\Roaming\\nltk_data...\n",
      "[nltk_data]   Package wordnet is already up-to-date!\n",
      "[nltk_data] Downloading package stopwords to\n",
      "[nltk_data]     C:\\Users\\kdzop\\AppData\\Roaming\\nltk_data...\n",
      "[nltk_data]   Package stopwords is already up-to-date!\n"
     ]
    },
    {
     "data": {
      "text/plain": [
       "True"
      ]
     },
     "execution_count": 2,
     "metadata": {},
     "output_type": "execute_result"
    }
   ],
   "source": [
    "nltk.download('wordnet')\n",
    "nltk.download('stopwords')"
   ]
  },
  {
   "cell_type": "code",
   "execution_count": 4,
   "id": "612da141",
   "metadata": {},
   "outputs": [],
   "source": [
    "def preprocess_text(text):\n",
    "    # Initialize the Porter Stemmer\n",
    "    #stemmer = PorterStemmer()\n",
    "    lemma = nltk.wordnet.WordNetLemmatizer()\n",
    "    # Define English stop words\n",
    "    stop_words = set(stopwords.words('english'))\n",
    "    # Tokenize the text\n",
    "    words = word_tokenize(text,language='english', preserve_line=True)\n",
    "    print(words)\n",
    "    # Remove stop words and perform stemming\n",
    "   # preprocessed_words = [stemmer.stem(word) for word in words if word.lower() not in stop_words and word.isalpha()]\n",
    "    preprocessed_words = [lemma.lemmatize(word) for word in words if word.lower() not in stop_words and word.isalpha()]\n",
    "    return ' '.join(preprocessed_words)"
   ]
  },
  {
   "cell_type": "code",
   "execution_count": 5,
   "id": "9a54e313",
   "metadata": {},
   "outputs": [],
   "source": [
    "text = \"\"\"\n",
    " Natural language processing (NLP) is a field of artificial intelligence (AI) \n",
    "that focuses on the interaction between computers and humans through natural language. \n",
    "The ultimate goal of NLP is to enable computers to understand, interpret, and generate human language.\n",
    " \"\"\""
   ]
  },
  {
   "cell_type": "code",
   "execution_count": 8,
   "id": "485542d9",
   "metadata": {},
   "outputs": [
    {
     "name": "stdout",
     "output_type": "stream",
     "text": [
      "['Natural', 'language', 'processing', '(', 'NLP', ')', 'is', 'a', 'field', 'of', 'artificial', 'intelligence', '(', 'AI', ')', 'that', 'focuses', 'on', 'the', 'interaction', 'between', 'computers', 'and', 'humans', 'through', 'natural', 'language.', 'The', 'ultimate', 'goal', 'of', 'NLP', 'is', 'to', 'enable', 'computers', 'to', 'understand', ',', 'interpret', ',', 'and', 'generate', 'human', 'language', '.']\n"
     ]
    }
   ],
   "source": [
    "preprocessed_text = preprocess_text(text)"
   ]
  },
  {
   "cell_type": "code",
   "execution_count": 9,
   "id": "f8757ebc",
   "metadata": {},
   "outputs": [
    {
     "name": "stdout",
     "output_type": "stream",
     "text": [
      "Original Text:\n",
      "\n",
      " Natural language processing (NLP) is a field of artificial intelligence (AI) \n",
      "that focuses on the interaction between computers and humans through natural language. \n",
      "The ultimate goal of NLP is to enable computers to understand, interpret, and generate human language.\n",
      " \n",
      "\n",
      "Preprocessed Text:\n",
      "Natural language processing NLP field artificial intelligence AI focus interaction computer human natural ultimate goal NLP enable computer understand interpret generate human language\n"
     ]
    }
   ],
   "source": [
    "print(\"Original Text:\")\n",
    "print(text)\n",
    "print(\"\\nPreprocessed Text:\")\n",
    "print(preprocessed_text)"
   ]
  },
  {
   "cell_type": "code",
   "execution_count": null,
   "id": "4cad0a16",
   "metadata": {},
   "outputs": [],
   "source": []
  }
 ],
 "metadata": {
  "kernelspec": {
   "display_name": "Python 3 (ipykernel)",
   "language": "python",
   "name": "python3"
  },
  "language_info": {
   "codemirror_mode": {
    "name": "ipython",
    "version": 3
   },
   "file_extension": ".py",
   "mimetype": "text/x-python",
   "name": "python",
   "nbconvert_exporter": "python",
   "pygments_lexer": "ipython3",
   "version": "3.11.5"
  }
 },
 "nbformat": 4,
 "nbformat_minor": 5
}
