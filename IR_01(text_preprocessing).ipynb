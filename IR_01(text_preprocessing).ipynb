{
  "cells": [
    {
      "cell_type": "code",
      "execution_count": null,
      "id": "3b87df47-62b8-41bc-be59-9cf2da5f264e",
      "metadata": {
        "id": "3b87df47-62b8-41bc-be59-9cf2da5f264e"
      },
      "outputs": [],
      "source": [
        "import nltk\n",
        "from nltk.corpus import stopwords\n",
        "from nltk.tokenize import word_tokenize\n",
        "from nltk.stem import PorterStemmer"
      ]
    },
    {
      "cell_type": "code",
      "execution_count": null,
      "id": "12db4a5d-27b2-482c-8f68-77ecced2d9ff",
      "metadata": {
        "colab": {
          "base_uri": "https://localhost:8080/"
        },
        "id": "12db4a5d-27b2-482c-8f68-77ecced2d9ff",
        "outputId": "fececfd2-d024-41c0-aa66-5662d292d75f"
      },
      "outputs": [
        {
          "output_type": "stream",
          "name": "stderr",
          "text": [
            "[nltk_data] Downloading package punkt to /root/nltk_data...\n",
            "[nltk_data]   Package punkt is already up-to-date!\n",
            "[nltk_data] Downloading package stopwords to /root/nltk_data...\n",
            "[nltk_data]   Package stopwords is already up-to-date!\n"
          ]
        },
        {
          "output_type": "execute_result",
          "data": {
            "text/plain": [
              "True"
            ]
          },
          "metadata": {},
          "execution_count": 13
        }
      ],
      "source": [
        "nltk.download('punkt')\n",
        "nltk.download('stopwords')"
      ]
    },
    {
      "cell_type": "code",
      "execution_count": null,
      "id": "308c321f-122d-4a35-af46-0b72410ca3f4",
      "metadata": {
        "id": "308c321f-122d-4a35-af46-0b72410ca3f4"
      },
      "outputs": [],
      "source": [
        "text = \"\"\"\n",
        "\n",
        "Biodiversity conservation is crucial for maintaining the balance of ecosystems that support life on Earth. Each species, no matter how small, plays a unique role in its environment, contributing to essential processes like pollination, soil fertilization, and climate regulation. Loss of biodiversity weakens ecosystems, making them more vulnerable to environmental changes and extreme weather events. Protecting diverse habitats ensures food security, promotes medical discoveries, and preserves cultural heritage. By conserving biodiversity, we safeguard the ecological foundation that all species, including humans, depend on for survival, fostering resilience in a changing world.\n",
        "\"\"\""
      ]
    },
    {
      "cell_type": "code",
      "execution_count": null,
      "id": "8d040334-300f-46db-8a39-ed7b551e4b6b",
      "metadata": {
        "id": "8d040334-300f-46db-8a39-ed7b551e4b6b"
      },
      "outputs": [],
      "source": [
        "# Tokenize the text into words\n",
        "words = word_tokenize(text)"
      ]
    },
    {
      "cell_type": "code",
      "execution_count": null,
      "id": "5d9cf6af-a6f0-40ba-b9b1-dae531581df0",
      "metadata": {
        "id": "5d9cf6af-a6f0-40ba-b9b1-dae531581df0"
      },
      "outputs": [],
      "source": [
        "# Remove punctuation and convert words to lowercase\n",
        "words = [word.lower() for word in words if word.isalpha()]"
      ]
    },
    {
      "cell_type": "code",
      "execution_count": null,
      "id": "5a57f387-3a38-49e6-816d-b5c22f026873",
      "metadata": {
        "id": "5a57f387-3a38-49e6-816d-b5c22f026873"
      },
      "outputs": [],
      "source": [
        "# Load English stop words\n",
        "stop_words = set(stopwords.words('english'))"
      ]
    },
    {
      "cell_type": "code",
      "execution_count": null,
      "id": "8a57b12b-d380-41be-8e7d-a69528388180",
      "metadata": {
        "id": "8a57b12b-d380-41be-8e7d-a69528388180"
      },
      "outputs": [],
      "source": [
        "# Remove stop words\n",
        "filtered_words = [word for word in words if word not in stop_words]"
      ]
    },
    {
      "cell_type": "code",
      "execution_count": null,
      "id": "079673ee-b3e9-4cd0-ae4d-b47ada00e527",
      "metadata": {
        "id": "079673ee-b3e9-4cd0-ae4d-b47ada00e527"
      },
      "outputs": [],
      "source": [
        "# Perform stemming using Porter Stemmer\n",
        "stemmer = PorterStemmer()\n",
        "stemmed_words = [stemmer.stem(word) for word in filtered_words]"
      ]
    },
    {
      "cell_type": "code",
      "execution_count": null,
      "id": "973c85ce-6c3c-4334-a91a-e1578c5e8543",
      "metadata": {
        "colab": {
          "base_uri": "https://localhost:8080/"
        },
        "id": "973c85ce-6c3c-4334-a91a-e1578c5e8543",
        "outputId": "0e07e722-cff6-41fa-8cc3-3638c3f2e97e"
      },
      "outputs": [
        {
          "output_type": "stream",
          "name": "stdout",
          "text": [
            "Original Words:\n",
            " ['biodiversity', 'conservation', 'is', 'crucial', 'for', 'maintaining', 'the', 'balance', 'of', 'ecosystems', 'that', 'support', 'life', 'on', 'earth', 'each', 'species', 'no', 'matter', 'how', 'small', 'plays', 'a', 'unique', 'role', 'in', 'its', 'environment', 'contributing', 'to', 'essential', 'processes', 'like', 'pollination', 'soil', 'fertilization', 'and', 'climate', 'regulation', 'loss', 'of', 'biodiversity', 'weakens', 'ecosystems', 'making', 'them', 'more', 'vulnerable', 'to', 'environmental', 'changes', 'and', 'extreme', 'weather', 'events', 'protecting', 'diverse', 'habitats', 'ensures', 'food', 'security', 'promotes', 'medical', 'discoveries', 'and', 'preserves', 'cultural', 'heritage', 'by', 'conserving', 'biodiversity', 'we', 'safeguard', 'the', 'ecological', 'foundation', 'that', 'all', 'species', 'including', 'humans', 'depend', 'on', 'for', 'survival', 'fostering', 'resilience', 'in', 'a', 'changing', 'world']\n",
            "\n",
            " After Stop Word Removal:\n",
            " ['biodiversity', 'conservation', 'crucial', 'maintaining', 'balance', 'ecosystems', 'support', 'life', 'earth', 'species', 'matter', 'small', 'plays', 'unique', 'role', 'environment', 'contributing', 'essential', 'processes', 'like', 'pollination', 'soil', 'fertilization', 'climate', 'regulation', 'loss', 'biodiversity', 'weakens', 'ecosystems', 'making', 'vulnerable', 'environmental', 'changes', 'extreme', 'weather', 'events', 'protecting', 'diverse', 'habitats', 'ensures', 'food', 'security', 'promotes', 'medical', 'discoveries', 'preserves', 'cultural', 'heritage', 'conserving', 'biodiversity', 'safeguard', 'ecological', 'foundation', 'species', 'including', 'humans', 'depend', 'survival', 'fostering', 'resilience', 'changing', 'world']\n",
            "\n",
            " After Stemming:\n",
            " ['biodivers', 'conserv', 'crucial', 'maintain', 'balanc', 'ecosystem', 'support', 'life', 'earth', 'speci', 'matter', 'small', 'play', 'uniqu', 'role', 'environ', 'contribut', 'essenti', 'process', 'like', 'pollin', 'soil', 'fertil', 'climat', 'regul', 'loss', 'biodivers', 'weaken', 'ecosystem', 'make', 'vulner', 'environment', 'chang', 'extrem', 'weather', 'event', 'protect', 'divers', 'habitat', 'ensur', 'food', 'secur', 'promot', 'medic', 'discoveri', 'preserv', 'cultur', 'heritag', 'conserv', 'biodivers', 'safeguard', 'ecolog', 'foundat', 'speci', 'includ', 'human', 'depend', 'surviv', 'foster', 'resili', 'chang', 'world']\n"
          ]
        }
      ],
      "source": [
        "print(\"Original Words:\\n\", words)\n",
        "print(\"\\n After Stop Word Removal:\\n\", filtered_words)\n",
        "print(\"\\n After Stemming:\\n\", stemmed_words)"
      ]
    },
    {
      "cell_type": "code",
      "execution_count": null,
      "id": "61cf89c1-2592-4612-856f-b0be79a3e6a3",
      "metadata": {
        "id": "61cf89c1-2592-4612-856f-b0be79a3e6a3"
      },
      "outputs": [],
      "source": []
    }
  ],
  "metadata": {
    "kernelspec": {
      "display_name": "Python 3 (ipykernel)",
      "language": "python",
      "name": "python3"
    },
    "language_info": {
      "codemirror_mode": {
        "name": "ipython",
        "version": 3
      },
      "file_extension": ".py",
      "mimetype": "text/x-python",
      "name": "python",
      "nbconvert_exporter": "python",
      "pygments_lexer": "ipython3",
      "version": "3.11.7"
    },
    "colab": {
      "provenance": []
    }
  },
  "nbformat": 4,
  "nbformat_minor": 5
}